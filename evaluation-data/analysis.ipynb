{
 "cells": [
  {
   "cell_type": "markdown",
   "source": [
    "# Analysis of Evaluation Data"
   ],
   "metadata": {
    "collapsed": false
   }
  },
  {
   "cell_type": "markdown",
   "source": [
    "## Load Data"
   ],
   "metadata": {
    "collapsed": false
   }
  },
  {
   "cell_type": "code",
   "execution_count": 20,
   "metadata": {
    "collapsed": true
   },
   "outputs": [],
   "source": [
    "import json\n",
    "import os\n",
    "import matplotlib.pyplot as plt\n",
    "import numpy as np"
   ]
  },
  {
   "cell_type": "code",
   "execution_count": 21,
   "outputs": [],
   "source": [
    "def load_data(data_dir):\n",
    "    json_data = []\n",
    "    for root, dirs, files in os.walk(data_dir):\n",
    "        for file in files:\n",
    "            if file.endswith('.json'):\n",
    "                with open(os.path.join(root, file), 'r') as fp:\n",
    "                    dd = json.load(fp)\n",
    "                    json_data.append(dd)\n",
    "    return json_data"
   ],
   "metadata": {
    "collapsed": false,
    "pycharm": {
     "name": "#%%\n"
    }
   }
  },
  {
   "cell_type": "code",
   "execution_count": 22,
   "outputs": [],
   "source": [
    "DATA_DIR_DEFAULT = '2022-02-02_bigFlows-default'\n",
    "DATA_DIR_M1 = '2022-02-02_bigFlows-m1'\n",
    "json_data_default = load_data(DATA_DIR_DEFAULT)\n",
    "json_data_m1 = load_data(DATA_DIR_M1)"
   ],
   "metadata": {
    "collapsed": false,
    "pycharm": {
     "name": "#%%\n"
    }
   }
  },
  {
   "cell_type": "markdown",
   "source": [
    "## Compute Time Deltas"
   ],
   "metadata": {
    "collapsed": false
   }
  },
  {
   "cell_type": "code",
   "execution_count": 23,
   "outputs": [],
   "source": [
    "deltas_default = []\n",
    "for json_obj in json_data_default:\n",
    "    t0 = json_obj['timestampBeforeMiningFirstFlowPacket']\n",
    "    t1 = json_obj['timestampBeforeEmittingToSocketBroadcaster']\n",
    "    deltas_default.append(t1-t0)\n",
    "\n",
    "deltas_m1 = []\n",
    "for json_obj in json_data_m1:\n",
    "    t0 = json_obj['timestampBeforeMiningFirstFlowPacket']\n",
    "    t1 = json_obj['timestampBeforeEmittingToSocketBroadcaster']\n",
    "    deltas_m1.append(t1-t0)\n"
   ],
   "metadata": {
    "collapsed": false,
    "pycharm": {
     "name": "#%%\n"
    }
   }
  },
  {
   "cell_type": "markdown",
   "source": [
    "## Visualization"
   ],
   "metadata": {
    "collapsed": false
   }
  },
  {
   "cell_type": "markdown",
   "source": [
    "### Softflowd Default Configuration"
   ],
   "metadata": {
    "collapsed": false
   }
  },
  {
   "cell_type": "code",
   "execution_count": 24,
   "outputs": [
    {
     "data": {
      "text/plain": "<Figure size 432x288 with 1 Axes>",
      "image/png": "[encoded data removed]"
     },
     "metadata": {
      "needs_background": "light"
     },
     "output_type": "display_data"
    }
   ],
   "source": [
    "plt.hist(deltas_default, bins=20)\n",
    "plt.title('Softflowd Default Configuration')\n",
    "plt.xlabel('Time Deltas in milliseconds')\n",
    "plt.ylabel('Number of Occurrences')\n",
    "plt.savefig('softflowd_default')\n",
    "plt.show()"
   ],
   "metadata": {
    "collapsed": false,
    "pycharm": {
     "name": "#%%\n"
    }
   }
  },
  {
   "cell_type": "code",
   "execution_count": 25,
   "outputs": [
    {
     "name": "stdout",
     "output_type": "stream",
     "text": [
      "[358, 359, 347, 346, 322, 295, 360, 348, 320, 321, 294, 288]\n",
      "N: 12\n",
      "mean: 329.8333333333333\n",
      "median: 334.0\n",
      "std: 25.696411336129323\n"
     ]
    }
   ],
   "source": [
    "print(deltas_default)\n",
    "print('N: {}'.format(len(deltas_default)))\n",
    "print('mean: {}'.format(np.mean(deltas_default)))\n",
    "print('median: {}'.format(np.median(deltas_default)))\n",
    "print('std: {}'.format(np.std(deltas_default)))\n"
   ],
   "metadata": {
    "collapsed": false,
    "pycharm": {
     "name": "#%%\n"
    }
   }
  },
  {
   "cell_type": "markdown",
   "source": [
    "### Softflowd -m 1 Configuration"
   ],
   "metadata": {
    "collapsed": false
   }
  },
  {
   "cell_type": "code",
   "execution_count": 26,
   "outputs": [
    {
     "data": {
      "text/plain": "<Figure size 432x288 with 1 Axes>",
      "image/png": "[encoded data removed]"
     },
     "metadata": {
      "needs_background": "light"
     },
     "output_type": "display_data"
    }
   ],
   "source": [
    "plt.hist(deltas_m1, bins=20)\n",
    "plt.title('Softflowd -m 1 Configuration')\n",
    "plt.xlabel('Time Deltas in milliseconds')\n",
    "plt.ylabel('Number of Occurrences')\n",
    "plt.savefig('softflowd_m1')\n",
    "plt.show()"
   ],
   "metadata": {
    "collapsed": false,
    "pycharm": {
     "name": "#%%\n"
    }
   }
  },
  {
   "cell_type": "code",
   "execution_count": 27,
   "outputs": [
    {
     "name": "stdout",
     "output_type": "stream",
     "text": [
      "[1159, 671, 1173, 629, 1107, 410, 1662, 56, 2400, 1172, 2630, 719, 2835, 1097, 1850, 786, 1400, 1001, 597, 892, 214, 2603, 2455, 1308, 1001, 766, 1608, 171, 1525, 947, 718, 2631, 112, 1894, 56, 947, 1524, 2709, 1662, 1107, 669, 2085, 2711, 766, 2455, 2604, 749, 963, 1413, 893, 284, 2530, 787, 1850, 1413, 963, 2245, 2245, 1850, 1096, 2529, 1400, 2400, 1173, 282, 213, 749, 1308, 2455, 2400, 1608, 766, 671, 1159, 596, 1107, 628, 2708, 410, 1892, 1004, 597, 113, 2835, 719, 170, 1525, 1609, 1308, 749, 2604, 213, 2081, 284, 893, 947, 1399, 787, 2530, 1096, 2082, 2245, 171, 2708, 2834, 113, 2631, 1413, 56, 1894, 2706, 1663, 410, 2708, 628, 1156, 963]\n",
      "N: 117\n",
      "mean: 1342.5042735042734\n",
      "median: 1159.0\n",
      "std: 826.1339021857846\n"
     ]
    }
   ],
   "source": [
    "print(deltas_m1)\n",
    "print('N: {}'.format(len(deltas_m1)))\n",
    "print('mean: {}'.format(np.mean(deltas_m1)))\n",
    "print('median: {}'.format(np.median(deltas_m1)))\n",
    "print('std: {}'.format(np.std(deltas_m1)))"
   ],
   "metadata": {
    "collapsed": false,
    "pycharm": {
     "name": "#%%\n"
    }
   }
  },
  {
   "cell_type": "code",
   "execution_count": 27,
   "outputs": [],
   "source": [],
   "metadata": {
    "collapsed": false,
    "pycharm": {
     "name": "#%%\n"
    }
   }
  }
 ],
 "metadata": {
  "kernelspec": {
   "display_name": "Python 3",
   "language": "python",
   "name": "python3"
  },
  "language_info": {
   "codemirror_mode": {
    "name": "ipython",
    "version": 2
   },
   "file_extension": ".py",
   "mimetype": "text/x-python",
   "name": "python",
   "nbconvert_exporter": "python",
   "pygments_lexer": "ipython2",
   "version": "2.7.6"
  }
 },
 "nbformat": 4,
 "nbformat_minor": 0
}